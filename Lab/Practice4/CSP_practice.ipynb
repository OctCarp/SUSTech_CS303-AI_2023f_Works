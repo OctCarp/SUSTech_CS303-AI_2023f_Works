{
 "cells": [
  {
   "cell_type": "markdown",
   "id": "bf29e747",
   "metadata": {},
   "source": [
    "# CSP(1 point)\n",
    "In the following code , only two of the function usages are needed. One is `is_valid(self, state)`, which is to determine if the current state is legal; the other is `is_satisfy(self, state)`, which is to determine if the current board meets the win condition. \n",
    "The type of state is [], which stores the tuples(a, b), representing the positions of the queens in it.\n",
    "In the first line of the code you can see N = 5, this is the size of the test.\n",
    "Then in the test_block(see the last cell), `render` indicates whether to use a graphical interface representation, and then `method` indicates which bts function are used(`bts` or `improving_bts`or`min_conflict`).\n",
    "\n",
    "\n",
    "## Question 1: You should complete the function `bts()`. (0.8 points)\n",
    "You can only use iterative way, not recursive. Using recursion will incur a **20% penalty**. And you can add any function you want. \n",
    "## Question 2: You should complete the function `improving_bts()` or `min_conflict()`. (0.2 points)\n",
    "For `improving_bts()`, You can select one or more methods of the three methods below:Minimum Remaining Value, Least constraining value, Forward checking. You should have a good performance **when N = 16 without GUI**. \n",
    "\n",
    "For `min_conflict()`, you should have a good performance **when N = 100 without GUI**.\n",
    "\n",
    "### DDL: 22:00, Nov.1st\n",
    "The practice will be checked in this lab class or the next lab class(before **Nov.1st**) by teachers or SAs. \n",
    "#### What will be tested: \n",
    "* That you understand every line of your code, not just copy from somewhere \n",
    "* That your program compiles correctly\n",
    "* Correctness of the program logic \n",
    "* That the result is obtained in a reasonable time \n",
    "\n",
    "#### Grading: \n",
    "* Submissions in this lab class: 1.1 points.\n",
    "* Submissions on time: 1 point.\n",
    "* Late submissions within 2 weeks after the deadline : 0.8 points.\n"
   ]
  },
  {
   "cell_type": "code",
   "execution_count": 1,
   "id": "4afb24f8",
   "metadata": {
    "pycharm": {
     "name": ""
    },
    "ExecuteTime": {
     "end_time": "2023-10-21T12:56:47.473207200Z",
     "start_time": "2023-10-21T12:56:47.362206300Z"
    }
   },
   "outputs": [],
   "source": [
    "import numpy as np\n",
    "import time\n",
    "\n",
    "N = 7 # You should change the test size here !!!\n",
    "\n",
    "def my_range(start, end):\n",
    "    if start <= end:\n",
    "        return range(start, end + 1)\n",
    "    else:\n",
    "        return range(start, end - 1, -1)\n",
    "\n",
    "\n",
    "class Problem:\n",
    "    char_mapping = ('·', 'Q')\n",
    "\n",
    "    def __init__(self, n):\n",
    "        self.n = n\n",
    "\n",
    "    def is_valid(self, state):\n",
    "        \"\"\"\n",
    "        check the state satisfy condition or not.\n",
    "        :param state: list of points (in (row id, col id) tuple form)\n",
    "        :return: bool value of valid or not\n",
    "        \"\"\"\n",
    "        board = self.get_board(state)\n",
    "        res = True\n",
    "        for point in state:\n",
    "            i, j = point\n",
    "            condition1 = board[:, j].sum() <= 1\n",
    "            condition2 = board[i, :].sum() <= 1\n",
    "            condition3 = self.pos_slant_condition(board, point)\n",
    "            condition4 = self.neg_slant_condition(board, point)\n",
    "            res = res and condition1 and condition2 and condition3 and condition4\n",
    "            if not res:\n",
    "                break\n",
    "        return res\n",
    "\n",
    "    def is_satisfy(self, state):\n",
    "        \"\"\"\n",
    "        check if the current board meets the win condition\n",
    "        \"\"\"\n",
    "        return self.is_valid(state) and len(state) == self.n\n",
    "\n",
    "    def pos_slant_condition(self, board, point):\n",
    "        i, j = point\n",
    "        tmp = min(self.n - i - 1, j)\n",
    "        start = (i + tmp, j - tmp)\n",
    "        tmp = min(i, self.n - j - 1)\n",
    "        end = (i - tmp,  j + tmp)\n",
    "        rows = my_range(start[0], end[0])\n",
    "        cols = my_range(start[1], end[1])\n",
    "        return board[rows, cols].sum() <= 1\n",
    "\n",
    "    def neg_slant_condition(self, board, point):\n",
    "        i, j = point\n",
    "        tmp = min(i, j)\n",
    "        start = (i - tmp, j - tmp)\n",
    "        tmp = min(self.n - i - 1, self.n - j - 1)\n",
    "        end = (i + tmp, j + tmp)\n",
    "        rows = my_range(start[0], end[0])\n",
    "        cols = my_range(start[1], end[1])\n",
    "        return board[rows, cols].sum() <= 1\n",
    "\n",
    "    def get_board(self, state):\n",
    "        board = np.zeros([self.n, self.n], dtype=int)\n",
    "        for point in state:\n",
    "            board[point] = 1\n",
    "        return board\n",
    "\n",
    "    def print_state(self, state):\n",
    "        board = self.get_board(state)\n",
    "        print('_' * (2 * self.n + 1))\n",
    "        for row in board:\n",
    "            for item in row:\n",
    "                print(f'|{Problem.char_mapping[item]}', end='')\n",
    "            print('|')\n",
    "        print('-' * (2 * self.n + 1))"
   ]
  },
  {
   "cell_type": "markdown",
   "id": "a48f87d8",
   "metadata": {
    "pycharm": {
     "name": "#%% md\n"
    }
   },
   "source": [
    "## BTS: Backtracking search"
   ]
  },
  {
   "cell_type": "code",
   "execution_count": 2,
   "id": "1f9e8ac1",
   "metadata": {
    "pycharm": {
     "name": "#%%\n"
    },
    "ExecuteTime": {
     "end_time": "2023-10-21T12:56:47.488207700Z",
     "start_time": "2023-10-21T12:56:47.476214600Z"
    }
   },
   "outputs": [],
   "source": [
    "def bts(problem):\n",
    "    action_stack = []\n",
    "    n = problem.n\n",
    "    black_hole = [[] for _ in range(n)]\n",
    "    while not problem.is_satisfy(action_stack):\n",
    "        if len(action_stack) < n:\n",
    "            for i in range(n):\n",
    "                if (i not in black_hole[len(action_stack)] and\n",
    "                        problem.is_valid(action_stack + [(len(action_stack), i)])):\n",
    "                    action_stack.append((len(action_stack), i))\n",
    "                    break\n",
    "                elif i == n - 1:\n",
    "                    if len(action_stack) == 0:\n",
    "                        return []\n",
    "                    black_hole[len(action_stack) - 1].append(action_stack[-1][1])\n",
    "                    black_hole[len(action_stack)] = []\n",
    "                    action_stack.pop()\n",
    "        yield action_stack"
   ]
  },
  {
   "cell_type": "markdown",
   "id": "f925203f",
   "metadata": {
    "pycharm": {
     "name": "#%% md\n"
    }
   },
   "source": [
    "## Improving BTS\n",
    "* Which variable should be assigned next?\n",
    "* In what order should its values be tried?\n",
    "* Can we detect inevitable failure early?\n",
    "\n",
    "### Minimum Remaining Value\n",
    "Choose the variable with the fewest legal values in its domain\n",
    "### Least constraining value\n",
    "Given a variable, choose the least constraining value: the one that rules out the fewest values in the remaining variables\n",
    "### Forward checking\n",
    "Keep track of remaining legal values for the unassigned variables. Terminate when any variable has no legal values."
   ]
  },
  {
   "cell_type": "code",
   "execution_count": 3,
   "id": "8f840339",
   "metadata": {
    "pycharm": {
     "name": "#%%\n"
    },
    "ExecuteTime": {
     "end_time": "2023-10-21T12:56:47.507210400Z",
     "start_time": "2023-10-21T12:56:47.490208500Z"
    }
   },
   "outputs": [],
   "source": [
    "def improving_bts(problem):\n",
    "    action_stack = []\n",
    "    while not problem.is_satisfy(action_stack):\n",
    "        # TODO: Implement improving bts logic here\n",
    "        \n",
    "        yield action_stack"
   ]
  },
  {
   "cell_type": "markdown",
   "id": "07947f53",
   "metadata": {},
   "source": [
    "## Local search for CSP(min-conflict algorithm)\n",
    "\n",
    "* First generate a complete assignment for all variables (this set of assignments may conflict)\n",
    "\n",
    "* Repeat the following steps until there are no conflicts:\n",
    "\n",
    "    * Randomly Select a variable that causes conflicts\n",
    "\n",
    "    * Reassign the value of this variable to another value that with the least constraint conflicts with other variables"
   ]
  },
  {
   "cell_type": "code",
   "execution_count": 4,
   "id": "1e89fc22",
   "metadata": {
    "ExecuteTime": {
     "end_time": "2023-10-21T12:56:47.521207100Z",
     "start_time": "2023-10-21T12:56:47.506208700Z"
    }
   },
   "outputs": [],
   "source": [
    "def min_conflict(problem):\n",
    "    action_stack = []\n",
    "    while not problem.is_satisfy(action_stack):\n",
    "        # TODO: Implement min_conflict algorithm logic here\n",
    "        \n",
    "        yield action_stack"
   ]
  },
  {
   "cell_type": "code",
   "execution_count": 5,
   "id": "93d2cb99",
   "metadata": {
    "pycharm": {
     "name": "#%%\n"
    },
    "ExecuteTime": {
     "end_time": "2023-10-21T12:56:47.567268800Z",
     "start_time": "2023-10-21T12:56:47.526207100Z"
    }
   },
   "outputs": [
    {
     "name": "stdout",
     "output_type": "stream",
     "text": [
      "_______________\n",
      "|Q|·|·|·|·|·|·|\n",
      "|·|·|·|·|·|·|·|\n",
      "|·|·|·|·|·|·|·|\n",
      "|·|·|·|·|·|·|·|\n",
      "|·|·|·|·|·|·|·|\n",
      "|·|·|·|·|·|·|·|\n",
      "|·|·|·|·|·|·|·|\n",
      "---------------\n",
      "_______________\n",
      "|Q|·|·|·|·|·|·|\n",
      "|·|·|Q|·|·|·|·|\n",
      "|·|·|·|·|·|·|·|\n",
      "|·|·|·|·|·|·|·|\n",
      "|·|·|·|·|·|·|·|\n",
      "|·|·|·|·|·|·|·|\n",
      "|·|·|·|·|·|·|·|\n",
      "---------------\n",
      "_______________\n",
      "|Q|·|·|·|·|·|·|\n",
      "|·|·|Q|·|·|·|·|\n",
      "|·|·|·|·|Q|·|·|\n",
      "|·|·|·|·|·|·|·|\n",
      "|·|·|·|·|·|·|·|\n",
      "|·|·|·|·|·|·|·|\n",
      "|·|·|·|·|·|·|·|\n",
      "---------------\n",
      "_______________\n",
      "|Q|·|·|·|·|·|·|\n",
      "|·|·|Q|·|·|·|·|\n",
      "|·|·|·|·|Q|·|·|\n",
      "|·|Q|·|·|·|·|·|\n",
      "|·|·|·|·|·|·|·|\n",
      "|·|·|·|·|·|·|·|\n",
      "|·|·|·|·|·|·|·|\n",
      "---------------\n",
      "_______________\n",
      "|Q|·|·|·|·|·|·|\n",
      "|·|·|Q|·|·|·|·|\n",
      "|·|·|·|·|Q|·|·|\n",
      "|·|Q|·|·|·|·|·|\n",
      "|·|·|·|Q|·|·|·|\n",
      "|·|·|·|·|·|·|·|\n",
      "|·|·|·|·|·|·|·|\n",
      "---------------\n",
      "_______________\n",
      "|Q|·|·|·|·|·|·|\n",
      "|·|·|Q|·|·|·|·|\n",
      "|·|·|·|·|Q|·|·|\n",
      "|·|Q|·|·|·|·|·|\n",
      "|·|·|·|·|·|·|·|\n",
      "|·|·|·|·|·|·|·|\n",
      "|·|·|·|·|·|·|·|\n",
      "---------------\n",
      "_______________\n",
      "|Q|·|·|·|·|·|·|\n",
      "|·|·|Q|·|·|·|·|\n",
      "|·|·|·|·|Q|·|·|\n",
      "|·|·|·|·|·|·|·|\n",
      "|·|·|·|·|·|·|·|\n",
      "|·|·|·|·|·|·|·|\n",
      "|·|·|·|·|·|·|·|\n",
      "---------------\n",
      "_______________\n",
      "|Q|·|·|·|·|·|·|\n",
      "|·|·|Q|·|·|·|·|\n",
      "|·|·|·|·|Q|·|·|\n",
      "|·|·|·|·|·|·|Q|\n",
      "|·|·|·|·|·|·|·|\n",
      "|·|·|·|·|·|·|·|\n",
      "|·|·|·|·|·|·|·|\n",
      "---------------\n",
      "_______________\n",
      "|Q|·|·|·|·|·|·|\n",
      "|·|·|Q|·|·|·|·|\n",
      "|·|·|·|·|Q|·|·|\n",
      "|·|·|·|·|·|·|Q|\n",
      "|·|Q|·|·|·|·|·|\n",
      "|·|·|·|·|·|·|·|\n",
      "|·|·|·|·|·|·|·|\n",
      "---------------\n",
      "_______________\n",
      "|Q|·|·|·|·|·|·|\n",
      "|·|·|Q|·|·|·|·|\n",
      "|·|·|·|·|Q|·|·|\n",
      "|·|·|·|·|·|·|Q|\n",
      "|·|Q|·|·|·|·|·|\n",
      "|·|·|·|Q|·|·|·|\n",
      "|·|·|·|·|·|·|·|\n",
      "---------------\n",
      "_______________\n",
      "|Q|·|·|·|·|·|·|\n",
      "|·|·|Q|·|·|·|·|\n",
      "|·|·|·|·|Q|·|·|\n",
      "|·|·|·|·|·|·|Q|\n",
      "|·|Q|·|·|·|·|·|\n",
      "|·|·|·|Q|·|·|·|\n",
      "|·|·|·|·|·|Q|·|\n",
      "---------------\n",
      "0.004998445510864258\n"
     ]
    }
   ],
   "source": [
    "\n",
    "# test_block\n",
    "n = N # Do not modify this parameter, if you want to change the size, go to the first line of whole program.\n",
    "render = False # here to select GUI or not\n",
    "method = bts  # here to change your method; bts or improving_bts or min_conflict\n",
    "p = Problem(n)\n",
    "if render:\n",
    "    import pygame\n",
    "    w, h = 90 * n + 10, 90 * n + 10\n",
    "    screen = pygame.display.set_mode((w, h))\n",
    "    screen.fill('white')\n",
    "    action_generator = method(p)\n",
    "    clk = pygame.time.Clock()\n",
    "    queen_img = pygame.image.load('./queen.png')\n",
    "    while True:\n",
    "        for event in pygame.event.get():\n",
    "            if event == pygame.QUIT:\n",
    "                exit()\n",
    "        try:\n",
    "            actions = next(action_generator)\n",
    "            screen.fill('white')\n",
    "            for i in range(n + 1):\n",
    "                pygame.draw.rect(screen, 'black', (i * 90, 0, 10, h))\n",
    "                pygame.draw.rect(screen, 'black', (0, i * 90, w, 10))\n",
    "            for action in actions:\n",
    "                i, j = action\n",
    "                screen.blit(queen_img, (10 + 90 * j, 10 + 90 * i))\n",
    "            pygame.display.flip()\n",
    "        except StopIteration:\n",
    "            pass\n",
    "        clk.tick(5)\n",
    "    pass\n",
    "else:\n",
    "    start_time = time.time()\n",
    "    for actions in method(p):\n",
    "        p.print_state(actions)\n",
    "        pass\n",
    "    print(time.time() - start_time)\n"
   ]
  }
 ],
 "metadata": {
  "kernelspec": {
   "display_name": "Python 3",
   "language": "python",
   "name": "python3"
  },
  "language_info": {
   "codemirror_mode": {
    "name": "ipython",
    "version": 3
   },
   "file_extension": ".py",
   "mimetype": "text/x-python",
   "name": "python",
   "nbconvert_exporter": "python",
   "pygments_lexer": "ipython3",
   "version": "3.8.8"
  },
  "vscode": {
   "interpreter": {
    "hash": "926f4f342ff63d6917febbc2bc9703c023cf68cb3238c08e97a18f644493fddf"
   }
  }
 },
 "nbformat": 4,
 "nbformat_minor": 5
}
