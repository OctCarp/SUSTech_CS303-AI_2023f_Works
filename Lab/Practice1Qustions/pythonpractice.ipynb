{
 "cells": [
  {
   "cell_type": "markdown",
   "metadata": {},
   "source": [
    "## Python Practice (0.5 point)\n",
    "### Snake: Simulate a snake game and print the game results.\n",
    "\n",
    "You are given a map that ‘x’ represents a rock, ‘-’represents a space, ‘#’represents the body of snake. ‘@’represent the head of the snake and a sequence of actions that ‘0,1,2,3’represent to move to up/down/left/right correspondingly for one step.\n",
    "A greedy snake starts in the map state and moves one step per unit of time according to the sequence of actions until all actions complete or fail. It will fail when the head and the stone overlap, the head goes beyond the boundary, or the head overlaps the body. \n",
    "\n",
    "#### Input\n",
    "A matrix with type char (the map). \n",
    "A sequence with type int (the motions). \n",
    "\n",
    "#### Output\n",
    "The result of the game:\n",
    "If it failed, output the running time of the game.\n",
    "If it didn’t fail, output the final position of the head (in the form “%d, %d”)."
   ]
  },
  {
   "cell_type": "code",
   "execution_count": null,
   "outputs": [],
   "source": [
    "\"\"\"\n",
    "Example:\n",
    "input:\n",
    "map:\n",
    "---------\n",
    "------x--\n",
    "-x-------\n",
    "---@-----\n",
    "---##----\n",
    "------x--\n",
    "--x----x-\n",
    "-x-------\n",
    "---------\n",
    "action:\n",
    "0 0 3 3 0 3 3 1 1 1 1 1 3 1 1 2 2 2 2 2\n",
    "\n",
    "output:\n",
    "7 3\n",
    "\"\"\""
   ],
   "metadata": {
    "collapsed": false
   }
  },
  {
   "cell_type": "code",
   "execution_count": 5,
   "metadata": {
    "pycharm": {
     "name": "#%%\n"
    },
    "ExecuteTime": {
     "end_time": "2023-09-15T07:17:23.945734500Z",
     "start_time": "2023-09-15T07:17:23.940736700Z"
    }
   },
   "outputs": [],
   "source": [
    "from collections import deque\n",
    "\n",
    "\n",
    "# add your code here\n",
    "def eat(maps, acts):\n",
    "    head = []\n",
    "\n",
    "    row = len(maps)\n",
    "    col = len(maps[0])\n",
    "    for i in range(0, row):\n",
    "        for j in range(0, col):\n",
    "            if maps[i][j] == '@':\n",
    "                head = [i, j]\n",
    "                break\n",
    "    pre = [-1, -1]\n",
    "    p = head[:]\n",
    "    body = deque()\n",
    "    body.append(p[:])\n",
    "\n",
    "    while True:\n",
    "        if p[0] + 1 in range(0, row) and p[0] + 1 != pre[0] and maps[p[0] + 1][p[1]] == '#':\n",
    "                pre = p[:]\n",
    "                p[0] = p[0] + 1\n",
    "                body.append(p[:])\n",
    "        elif p[0] - 1 in range(0, row) and p[0] - 1 != pre[0] and maps[p[0] + 1][p[1]] == '#':\n",
    "                pre = p[:]\n",
    "                p[0] = p[0] - 1\n",
    "                body.append(p[:])\n",
    "        elif p[1] + 1 in range(0, col) and p[1] + 1 != pre[1] and maps[p[0]][p[1] + 1] == '#':\n",
    "                pre = p[:]\n",
    "                p[1] = p[1] + 1\n",
    "                body.append(p[:])\n",
    "        elif p[1] - 1 in range(0, col) and p[1] - 1 != pre[1] and maps[p[0]][p[1] - 1] == '#':\n",
    "                pre = p[:]\n",
    "                p[1] = p[1] - 1\n",
    "                body.append(p[:])\n",
    "        else:\n",
    "            break\n",
    "\n",
    "    time = 0\n",
    "    can = True\n",
    "    for act in acts:\n",
    "        loc = []\n",
    "        if act == 0:\n",
    "            loc = [head[0] - 1, head[1]]\n",
    "        elif act == 1:\n",
    "            loc = [head[0] + 1, head[1]]\n",
    "        elif act == 2:\n",
    "            loc = [head[0], head[1] - 1]\n",
    "        elif act == 3:\n",
    "            loc = [head[0], head[1] + 1]\n",
    "\n",
    "        if loc[0] in range(0, row) and loc[1] in range(0, col) and maps[loc[0]][loc[1]] == '-':\n",
    "            maps[head[0]][head[1]] = '#'\n",
    "            maps[loc[0]][loc[1]] = '@'\n",
    "            head = loc\n",
    "            tail = body[0]\n",
    "            maps[tail[0]][tail[1]] = '-'\n",
    "            body.popleft()\n",
    "            body.append(head)\n",
    "            time = time + 1\n",
    "        else:\n",
    "            can = False\n",
    "            break\n",
    "\n",
    "    if can:\n",
    "        print(f'{head[0]} {head[1]}')\n",
    "    else:\n",
    "        print(time)\n"
   ]
  },
  {
   "cell_type": "code",
   "execution_count": 6,
   "metadata": {
    "pycharm": {
     "name": "#%%\n"
    },
    "ExecuteTime": {
     "end_time": "2023-09-15T07:17:28.426933400Z",
     "start_time": "2023-09-15T07:17:28.403965200Z"
    }
   },
   "outputs": [
    {
     "name": "stdout",
     "output_type": "stream",
     "text": [
      "7 3\n",
      "10\n",
      "11\n",
      "32\n"
     ]
    }
   ],
   "source": [
    "# test block, you may need to modify this block.\n",
    "for test_case in range(1, 5):\n",
    "    with open(f'pythonpractice_test_cases/{test_case}-map.txt', 'r') as f:\n",
    "        game_map = [list(line.strip()) for line in f.readlines()]\n",
    "    # print(game_map)\n",
    "    with open(f'./pythonpractice_test_cases/{test_case}-actions.txt', 'r') as f:\n",
    "        actions = [*map(int, f.read().split(' '))]\n",
    "    # print(actions)\n",
    "    eat(game_map, actions)\n"
   ]
  },
  {
   "cell_type": "code",
   "execution_count": null,
   "outputs": [],
   "source": [],
   "metadata": {
    "collapsed": false
   }
  }
 ],
 "metadata": {
  "interpreter": {
   "hash": "6eea70d608ba4e65e3b5d32ac8522b4d78d39b471a2766e116e1911c1dde4fb7"
  },
  "kernelspec": {
   "display_name": "Python 3",
   "language": "python",
   "name": "python3"
  },
  "language_info": {
   "codemirror_mode": {
    "name": "ipython",
    "version": 3
   },
   "file_extension": ".py",
   "mimetype": "text/x-python",
   "name": "python",
   "nbconvert_exporter": "python",
   "pygments_lexer": "ipython3",
   "version": "3.8.8"
  }
 },
 "nbformat": 4,
 "nbformat_minor": 1
}
