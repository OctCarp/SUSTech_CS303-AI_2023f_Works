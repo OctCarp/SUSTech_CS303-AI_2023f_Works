{
 "cells": [
  {
   "cell_type": "markdown",
   "id": "64da1d8e",
   "metadata": {},
   "source": [
    "## Numpy Practice (0.5 point)\n",
    "\n",
    "1. Create a 10*10 ndarray object, and the matrix boundary value is 1, and the rest are 0.\n"
   ]
  },
  {
   "cell_type": "code",
   "execution_count": 2,
   "id": "035382e3",
   "metadata": {
    "ExecuteTime": {
     "end_time": "2023-09-16T11:19:50.077756200Z",
     "start_time": "2023-09-16T11:19:49.946762300Z"
    }
   },
   "outputs": [
    {
     "data": {
      "text/plain": "array([[1., 1., 1., 1., 1., 1., 1., 1., 1., 1.],\n       [1., 0., 0., 0., 0., 0., 0., 0., 0., 1.],\n       [1., 0., 0., 0., 0., 0., 0., 0., 0., 1.],\n       [1., 0., 0., 0., 0., 0., 0., 0., 0., 1.],\n       [1., 0., 0., 0., 0., 0., 0., 0., 0., 1.],\n       [1., 0., 0., 0., 0., 0., 0., 0., 0., 1.],\n       [1., 0., 0., 0., 0., 0., 0., 0., 0., 1.],\n       [1., 0., 0., 0., 0., 0., 0., 0., 0., 1.],\n       [1., 0., 0., 0., 0., 0., 0., 0., 0., 1.],\n       [1., 1., 1., 1., 1., 1., 1., 1., 1., 1.]])"
     },
     "execution_count": 2,
     "metadata": {},
     "output_type": "execute_result"
    }
   ],
   "source": [
    "#1\n",
    "import numpy as np\n",
    "\n",
    "i = 10\n",
    "mat1 = np.zeros((i - 2, i - 2))\n",
    "mat1 = np.vstack((np.ones((1, i - 2)), mat1))\n",
    "mat1 = np.vstack((mat1, np.ones((1, i - 2))))\n",
    "mat1 = np.hstack((np.ones((i, 1)), mat1))\n",
    "mat1 = np.hstack((mat1, np.ones((i, 1))))\n",
    "\n",
    "np.array(mat1)"
   ]
  },
  {
   "cell_type": "markdown",
   "id": "8d3b3c80",
   "metadata": {},
   "source": [
    "2. Create a 5*5 matrix with each row being 0 to 4"
   ]
  },
  {
   "cell_type": "code",
   "execution_count": 37,
   "id": "6c26347e",
   "metadata": {
    "ExecuteTime": {
     "end_time": "2023-09-16T10:03:23.687847800Z",
     "start_time": "2023-09-16T10:03:23.633849900Z"
    }
   },
   "outputs": [
    {
     "data": {
      "text/plain": "array([0, 1, 2, 3, 4])"
     },
     "execution_count": 37,
     "metadata": {},
     "output_type": "execute_result"
    }
   ],
   "source": [
    "#2\n",
    "i = 5\n",
    "mat2 = np.arange(0, i, 1)\n",
    "for _ in range(0, i - 1):\n",
    "    mat = np.vstack((mat2, np.arange(0, i, 1)))\n",
    "\n",
    "np.array(mat2)"
   ]
  },
  {
   "cell_type": "markdown",
   "id": "8b226308",
   "metadata": {},
   "source": [
    "3. Create an 8*8 matrix and fill it with a checkerboard pattern, like [[0,1],[1,0]])"
   ]
  },
  {
   "cell_type": "code",
   "execution_count": 38,
   "id": "e83e8494",
   "metadata": {
    "ExecuteTime": {
     "end_time": "2023-09-16T10:03:23.722848400Z",
     "start_time": "2023-09-16T10:03:23.648849800Z"
    }
   },
   "outputs": [
    {
     "data": {
      "text/plain": "array([[1., 0., 1., 0., 1., 0., 1., 0.],\n       [0., 1., 0., 1., 0., 1., 0., 1.],\n       [1., 0., 1., 0., 1., 0., 1., 0.],\n       [0., 1., 0., 1., 0., 1., 0., 1.],\n       [1., 0., 1., 0., 1., 0., 1., 0.],\n       [0., 1., 0., 1., 0., 1., 0., 1.],\n       [1., 0., 1., 0., 1., 0., 1., 0.],\n       [0., 1., 0., 1., 0., 1., 0., 1.]])"
     },
     "execution_count": 38,
     "metadata": {},
     "output_type": "execute_result"
    }
   ],
   "source": [
    "#3\n",
    "i = 8\n",
    "mat3 = np.zeros((i, i))\n",
    "for x in range(0, i):\n",
    "    for y in range(0, i):\n",
    "        if (x + y) % 2 == 0:\n",
    "            mat3[x][y] = 1\n",
    "\n",
    "np.array(mat3)"
   ]
  },
  {
   "cell_type": "markdown",
   "id": "04663245",
   "metadata": {},
   "source": [
    "4. output all the odd numbers in the array  \n",
    "   Example:  \n",
    "   in:    arr = np.array([0, 1, 2, 3, 4, 5, 6, 7, 8, 9])  \n",
    "   out:   array([1, 3, 5, 7, 9])  "
   ]
  },
  {
   "cell_type": "code",
   "execution_count": 39,
   "id": "7964df33",
   "metadata": {
    "ExecuteTime": {
     "end_time": "2023-09-16T10:03:23.734849100Z",
     "start_time": "2023-09-16T10:03:23.663849700Z"
    }
   },
   "outputs": [
    {
     "data": {
      "text/plain": "array([0, 2, 4, 6, 8])"
     },
     "execution_count": 39,
     "metadata": {},
     "output_type": "execute_result"
    }
   ],
   "source": [
    "#4\n",
    "arr4 = np.array([0, 1, 2, 3, 4, 5, 6, 7, 8, 9])\n",
    "mat4 = arr4[arr4 % 2 == 0]\n",
    "\n",
    "np.array(mat4)"
   ]
  },
  {
   "cell_type": "markdown",
   "id": "fc506104",
   "metadata": {},
   "source": [
    "5. Normalize a 5x5 random matrix that follows the Gaussian distribution N(4,3).(Z-Score Normalization零均值归一化)"
   ]
  },
  {
   "cell_type": "code",
   "execution_count": 5,
   "id": "972284fd",
   "metadata": {
    "ExecuteTime": {
     "end_time": "2023-09-16T11:22:26.669416500Z",
     "start_time": "2023-09-16T11:22:26.633156100Z"
    }
   },
   "outputs": [
    {
     "name": "stdout",
     "output_type": "stream",
     "text": [
      "[[-0.75473447  1.64130713  0.17956178  0.51056923  0.56059526]\n",
      " [-1.61737714  1.45520103 -1.24897792  0.11079218 -0.65078616]\n",
      " [ 0.56564539 -0.41483064 -0.14510247  0.74177212  0.08664771]\n",
      " [ 0.50059987  1.85180904 -0.90022919  1.13896009 -1.44807948]\n",
      " [ 1.33700815 -1.20820621 -1.30608586 -0.54529257 -0.44076687]]\n"
     ]
    }
   ],
   "source": [
    "#5\n",
    "arr5 = np.random.normal(3, 4, (5, 5))\n",
    "mat5 = (arr5 - np.mean(arr5)) / np.std(arr5)\n",
    "print(mat5)"
   ]
  },
  {
   "cell_type": "markdown",
   "id": "df87456c",
   "metadata": {},
   "source": [
    "6. Consider a random positive 10x2 matrix representing cartesian coordinates, convert them to polar coordinates."
   ]
  },
  {
   "cell_type": "code",
   "execution_count": 41,
   "id": "125feb23",
   "metadata": {
    "ExecuteTime": {
     "end_time": "2023-09-16T10:03:23.774848100Z",
     "start_time": "2023-09-16T10:03:23.695849100Z"
    }
   },
   "outputs": [
    {
     "name": "stdout",
     "output_type": "stream",
     "text": [
      "X, Y:\n",
      "[[0.41751991 0.20295309 0.51623158 0.29299907 0.47333427 0.01037032\n",
      "  0.66123855 0.73674969 0.63638488 0.24436302]\n",
      " [0.50729816 0.89911885 0.9141083  0.97025217 0.89694281 0.85254742\n",
      "  0.63595742 0.0157484  0.49931316 0.17552505]]\n",
      "R:\n",
      "[0.65701926 0.92174002 1.04980428 1.01352737 1.0141754  0.85261049\n",
      " 0.91743024 0.73691798 0.80888772 0.30086929]\n",
      "T:\n",
      "[1.55643279 1.56685671 1.56094011 1.56552579 1.56158614 1.57058403\n",
      " 1.55265121 0.88606965 1.54855542 1.54650293]\n"
     ]
    }
   ],
   "source": [
    "#6\n",
    "ori6 = np.random.random((2, 10))\n",
    "print(f'X, Y:\\n{ori6}')\n",
    "\n",
    "r6 = np.sqrt(ori6[0] ** 2 + ori6[1] ** 2)\n",
    "print(f'R:\\n{r6}')\n",
    "\n",
    "t6 = np.arctan(ori6[1] / ori6[0] * 180 / np.pi)\n",
    "print(f'T:\\n{t6}')"
   ]
  },
  {
   "cell_type": "markdown",
   "id": "c1cedf1f",
   "metadata": {},
   "source": [
    "7. Consider the vector [1, 2, 3, 4, 5], how to build a new vector with 3 consecutive zeros interleaved between each value?"
   ]
  },
  {
   "cell_type": "code",
   "execution_count": 49,
   "id": "c8a88dfd",
   "metadata": {
    "ExecuteTime": {
     "end_time": "2023-09-16T10:12:13.142633500Z",
     "start_time": "2023-09-16T10:12:13.122597700Z"
    }
   },
   "outputs": [
    {
     "name": "stdout",
     "output_type": "stream",
     "text": [
      "[1. 0. 0. 0. 2. 0. 0. 0. 3. 0. 0. 0. 4. 0. 0. 0. 5.]\n"
     ]
    }
   ],
   "source": [
    "#7\n",
    "i = 5\n",
    "v7 = [1, 2, 3, 4, 5]\n",
    "mat7 = np.zeros(4 * i - 3)\n",
    "for x in range(0, i):\n",
    "    mat7[4 * x] = v7[x]\n",
    "print(mat7)"
   ]
  },
  {
   "cell_type": "markdown",
   "id": "c7ea103c",
   "metadata": {},
   "source": [
    "8. What are the result of the following expressions?\n",
    "\n",
    "0 * np.nan\n",
    "\n",
    "np.nan == np.nan\n",
    "\n",
    "np.inf > np.nan\n",
    "\n",
    "np.nan - np.nan\n",
    "\n",
    "np.nan in set([np.nan])\n",
    "\n",
    "0.3 == 3 * 0.1 \n",
    "\n",
    "(hint1:nan means not a number \n",
    "\n",
    "hint2:0.1(10) == 0.0001100110011001100110011001100110011001100110011...(2)\n",
    "\n",
    "First guess a result, then print the result, and finally find why"
   ]
  },
  {
   "cell_type": "code",
   "execution_count": 43,
   "id": "ee65170c",
   "metadata": {
    "ExecuteTime": {
     "end_time": "2023-09-16T10:03:23.776849Z",
     "start_time": "2023-09-16T10:03:23.726850800Z"
    }
   },
   "outputs": [
    {
     "name": "stdout",
     "output_type": "stream",
     "text": [
      "nan\n",
      "False\n",
      "False\n",
      "nan\n",
      "True\n",
      "False\n"
     ]
    }
   ],
   "source": [
    "#8\n",
    "print(0 * np.nan)\n",
    "print(np.nan == np.nan)\n",
    "print(np.inf > np.nan)\n",
    "print(np.nan - np.nan)\n",
    "print(np.nan in set([np.nan]))\n",
    "print(0.3 == 3 * 0.1)"
   ]
  },
  {
   "cell_type": "markdown",
   "id": "7218ef9e",
   "metadata": {},
   "source": [
    "9. What are the result of the following expressions? (Hint: the type of pn.nan is float)\n",
    "\n",
    "np.array(0) / np.array(0)\n",
    "\n",
    "np.array(0) // np.array(0)\n",
    "\n",
    "np.array([np.nan]).astype(int).astype(float)\n",
    "\n",
    "\n",
    "First guess a result, then print the result, and finally find why "
   ]
  },
  {
   "cell_type": "code",
   "execution_count": null,
   "id": "cc0b2732",
   "metadata": {},
   "outputs": [],
   "source": [
    "#9\n",
    "print(np.array(0) / np.array(0))\n",
    "print(np.array(0) // np.array(0))\n",
    "print(np.array([np.nan]).astype(int).astype(float))"
   ]
  }
 ],
 "metadata": {
  "kernelspec": {
   "display_name": "Python 3",
   "language": "python",
   "name": "python3"
  },
  "language_info": {
   "codemirror_mode": {
    "name": "ipython",
    "version": 3
   },
   "file_extension": ".py",
   "mimetype": "text/x-python",
   "name": "python",
   "nbconvert_exporter": "python",
   "pygments_lexer": "ipython3",
   "version": "3.8.8"
  }
 },
 "nbformat": 4,
 "nbformat_minor": 5
}
