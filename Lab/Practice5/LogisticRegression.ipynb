{
 "cells": [
  {
   "cell_type": "markdown",
   "metadata": {
    "pycharm": {
     "name": "#%% md\n"
    }
   },
   "source": [
    "# Logistic Regression(1 point)\n",
    "\n",
    "In this lab, you need to implement a logistic regression algorithm and test your model on a subset of the iris dataset.\n",
    "\n",
    "### DDL: 22:00, Nov.17th\n",
    "The practice will be checked in this lab class or the next lab class(before **Nov.17th**) by teachers or SAs. \n",
    "#### What will be tested: \n",
    "* That you understand every line of your code, not just copy from somewhere \n",
    "* That your program compiles correctly\n",
    "* Correctness of the program logic \n",
    "* That the result is obtained in a reasonable time \n",
    "\n",
    "#### Grading: \n",
    "* Submissions in this lab class: 1.1 points.\n",
    "* Submissions on time: 1 point.\n",
    "* Late submissions within 2 weeks after the deadline : 0.8 points."
   ]
  },
  {
   "cell_type": "markdown",
   "metadata": {
    "pycharm": {
     "name": "#%% md\n"
    }
   },
   "source": [
    "### Part 1: Logistic regression algorithm\n",
    "\n",
    "The hypothsis function of logistic regression is:\n",
    "$$f(\\mathbf{x})=g(\\sum_{j=0}^{d}\\beta_j x_j),$$\n",
    "where $x_j(j>0)$ is the $j$-th dimension of input $\\mathbf{x}$, $\\beta_j$ is the weight of $x_j$, $x_0=1$, $\\beta_0$ is the intercept value, and $g(x)=\\frac{1}{1+e^{-x}}$ is the sigmoid function. The hypothsis function can also be written as:\n",
    "$$f(\\mathbf{x})=g(\\mathbf{\\beta}^T \\mathbf{x}).$$\n",
    "Remind that the first element in $\\mathbf{x}$ is 1 and the first element in $\\mathbf{\\beta}$ is the intercept value.\n",
    "\n",
    "<hr>\n",
    "  \n",
    "Given a train dataset $\\mathbb{D}_{train}=\\{(\\mathbf{x}_i, y_i)|i \\in [1,n], \\mathbf{x}_i \\in \\mathbb{R}^d, y_i \\in \\{0,1\\}\\}$. The cross-entropy loss function is:\n",
    "$$Loss=\\frac{1}{n}\\sum_{i=1}^{n}(-y_ilog(f(\\mathbf{x}_i))-(1-y_i)log(1-f(\\mathbf{x}_i))).$$\n",
    "  \n",
    "Linear regression aims to minimize the loss function. The optimization process can be conducted by gradient descent algorithm. Given the learning rate $\\alpha$ and the number of iterations $n_{iters}$:\n",
    "1. Initialize the vector of $\\beta$ with $0$s.\n",
    "2. for _ in range($n_{iters}$):\n",
    "$$\\beta=\\beta-\\alpha*\\frac{\\partial Loss}{\\partial \\beta},$$\n",
    "where $\\frac{\\partial Loss}{\\partial \\beta}=\\frac{\\partial Loss}{\\partial f}*\\frac{\\partial f}{\\partial \\mathbf{\\beta}^T \\mathbf{x}}*\\frac{\\partial \\mathbf{\\beta}^T \\mathbf{x}}{\\partial \\mathbf{\\beta}}=\\frac{1}{n}\\sum_{i=1}^{n}(-\\frac{y_i}{f(\\mathbf{x}_i)}+\\frac{1-y_i}{1-f(\\mathbf{x}_i)})*(f(\\mathbf{x}_i)(1-f(\\mathbf{x}_i)))*\\mathbf{x}_i$   \n",
    "(The deviation of matrix: <https://en.wikipedia.org/wiki/Matrix_calculus>)\n",
    "\n",
    "After training the model on the train dataset, we can then use this model to predict the labels for instances in the test dataset:\n",
    "$$\\hat{y}=\\left\\{\n",
    "\\begin{aligned}\n",
    "1, f(\\mathbf{x})\\geq\\frac{1}{2}\\\\\n",
    "0, f(\\mathbf{x})<\\frac{1}{2}\n",
    "\\end{aligned}\n",
    "\\right.$$\n",
    "\n",
    "<hr>\n",
    "\n",
    "**Tasks**\n",
    "\n",
    "* In this part, you need to implement the class `MyLogisticRegression` with 5 methods -- `__init__`, `fx`, `loss`, `fit`, and `predict` to perform above tasks."
   ]
  },
  {
   "cell_type": "code",
   "execution_count": 1,
   "metadata": {
    "ExecuteTime": {
     "end_time": "2023-11-17T03:14:22.187025800Z",
     "start_time": "2023-11-17T03:14:22.043027300Z"
    },
    "pycharm": {
     "name": "#%%\n"
    }
   },
   "outputs": [],
   "source": [
    "import numpy as np\n",
    "\n",
    "\n",
    "class MyLogisticRegression:\n",
    "    def __init__(self):\n",
    "        \"\"\"\n",
    "        Class constructor.\n",
    "        \n",
    "        :attr beta: weights vector of logistic regression.\n",
    "        \"\"\"\n",
    "        self.beta = None\n",
    "\n",
    "    def fx(self, X):\n",
    "        \"\"\"\n",
    "        Calculate the value of f(x) given x.\n",
    "\n",
    "        :param X: numpy.ndarray with a shape of (n, d), input data.\n",
    "        :return:\n",
    "            fx_value: numpy.ndarray with a length of n, output of f(x).\n",
    "        \"\"\"\n",
    "        # TODO 1: complete the calculation process of f(x)\n",
    "        X_ = np.column_stack([np.ones(X.shape[0]), X])\n",
    "        fx_value = 1 / (1 + np.exp(-np.dot(X_, self.beta)))\n",
    "\n",
    "        return fx_value\n",
    "\n",
    "    def loss(self, fx_value, y) -> float:\n",
    "        \"\"\"\n",
    "        Calculate the loss function given the calculated value f(x) and the true label y.\n",
    "\n",
    "        :param fx_value: numpy.ndarray with a length of n, \n",
    "                         a vector of hypothesis function values on these samples, which is the output of the function fx\n",
    "        :param y: numpy.ndarray with a length of n, \n",
    "                  a vector of the true labels of these samples\n",
    "        :return:\n",
    "            CELoss: a float value of the cross-entropy loss.\n",
    "        \"\"\"\n",
    "        # TODO 2: complete the loss function calculation\n",
    "        CELoss = -np.mean(y * np.log(fx_value) + (1 - y) * np.log(1 - fx_value))\n",
    "\n",
    "        return CELoss\n",
    "\n",
    "    def fit(self, X, y, n_iters=100, alpha=0.01):\n",
    "        \"\"\"\n",
    "        Train the model using gradient descent\n",
    "\n",
    "        :param X: numpy.ndarray with a shape of (n*d), input data.\n",
    "        :param y: numpy.ndarray with a length of n, the true labels of these samples\n",
    "        :param n_iters: int, number of iterations\n",
    "        :param alpha: float, learning rate\n",
    "        :return:\n",
    "            CELoss_list: list with a length of n_iters+1, \n",
    "                         contains the loss values before the gradient descent and after the gradient descent.\n",
    "        \"\"\"\n",
    "\n",
    "        n, d = X.shape\n",
    "\n",
    "        self.beta = np.zeros(d + 1)\n",
    "        #the first element in X_ is 1\n",
    "        X_ = np.column_stack([np.ones(n), X])\n",
    "        CELoss_list = [self.loss(self.fx(X), y)]\n",
    "\n",
    "        for i in range(n_iters):\n",
    "            # TODO 3: update self.beta\n",
    "            gradient = np.dot(X_.T, self.fx(X) - y) / n\n",
    "            self.beta -= alpha * gradient\n",
    "            CELoss_list.append(self.loss(self.fx(X), y))\n",
    "\n",
    "        return CELoss_list\n",
    "\n",
    "    def predict(self, X):\n",
    "        \"\"\"\n",
    "        Predict the labels of input instances.\n",
    "\n",
    "        :param X: numpy.ndarray with a shape of (n*d), input data.\n",
    "        :return:\n",
    "            y_hat: numpy.ndarray with a length of n, the predicted labels of these samples\n",
    "        \"\"\"\n",
    "        # TODO 4: predict the labels of the input data X and return the labels y_hat.\n",
    "        y_hat = np.where(self.fx(X) >= 0.5, 1, 0)\n",
    "        return y_hat"
   ]
  },
  {
   "cell_type": "markdown",
   "metadata": {
    "pycharm": {
     "name": "#%%\n"
    }
   },
   "source": [
    "### Part 2: Load dataset\n",
    "Here, we will use a popular machine learning dataset `Iris plants dataset`. Details of iris dataset can be found in <https://scikit-learn.org/stable/datasets/toy_dataset.html#iris-dataset>. For simplicity, we use the third and fourth attributes `petal length` and `petal width` to predict whether a iris plant is a `Iris-Setosa (class 0)` or a `Iris-Versicolor (class 1)`.   \n",
    "![iris setosa](./setosa.png)\n",
    "![iris versicolor](./versicolor.png)"
   ]
  },
  {
   "cell_type": "code",
   "execution_count": null,
   "metadata": {
    "ExecuteTime": {
     "end_time": "2023-11-17T03:14:40.314349100Z",
     "start_time": "2023-11-17T03:14:22.179031200Z"
    },
    "pycharm": {
     "name": "#%%\n"
    },
    "scrolled": true
   },
   "outputs": [],
   "source": [
    "import matplotlib.pyplot as plt\n",
    "import numpy as np\n",
    "from sklearn import datasets\n",
    "\n",
    "# load data\n",
    "iris = datasets.load_iris()\n",
    "X = iris.data[:, [2, 3]]\n",
    "y = iris.target\n",
    "y_mask = (y == 0) | (y == 1)\n",
    "X = X[y_mask]\n",
    "y = y[y_mask]\n",
    "\n",
    "# plot the data\n",
    "for idx, class_ in enumerate(np.unique(y)):\n",
    "    plt.scatter(x=X[y == class_, 0], y=X[y == class_, 1],\n",
    "                alpha=0.8, label=\"class {}\".format(class_),\n",
    "                edgecolor='black')\n",
    "plt.legend()\n",
    "plt.show()"
   ]
  },
  {
   "cell_type": "markdown",
   "metadata": {},
   "source": [
    "### Part 3: Train dataset using your model\n",
    "In this part, you will use your logistic regression model to train a model and test whether it is good enough to handle the classification task of the iris dataset. Before all of these, we need to prepare the dataset first:\n",
    "* split the dataset into train and test part\n",
    "* standardize the data using the train dataset"
   ]
  },
  {
   "cell_type": "code",
   "execution_count": 3,
   "metadata": {
    "ExecuteTime": {
     "end_time": "2023-11-17T03:14:41.878396200Z",
     "start_time": "2023-11-17T03:14:40.318338400Z"
    }
   },
   "outputs": [],
   "source": [
    "from sklearn.model_selection import train_test_split\n",
    "from sklearn.preprocessing import StandardScaler\n",
    "\n",
    "# split data into train and test datasets\n",
    "X_train, X_test, y_train, y_test = train_test_split(X, y, test_size=0.3, random_state=42, stratify=y)\n",
    "\n",
    "# standarize varibles by removing the mean and scaling to unit variance\n",
    "sc = StandardScaler()\n",
    "sc.fit(X_train)\n",
    "X_train_std = sc.transform(X_train)\n",
    "X_test_std = sc.transform(X_test)"
   ]
  },
  {
   "cell_type": "markdown",
   "metadata": {},
   "source": [
    "Train your model on the train dataset"
   ]
  },
  {
   "cell_type": "code",
   "execution_count": 4,
   "metadata": {
    "ExecuteTime": {
     "end_time": "2023-11-17T03:14:41.894399200Z",
     "start_time": "2023-11-17T03:14:41.882400100Z"
    }
   },
   "outputs": [
    {
     "name": "stdout",
     "output_type": "stream",
     "text": [
      "Step 0: Cross-Entropy Loss: 0.6931471805599454\n",
      "Step 10: Cross-Entropy Loss: 0.6485572479853199\n",
      "Step 20: Cross-Entropy Loss: 0.6081631453613405\n",
      "Step 30: Cross-Entropy Loss: 0.5715437676920486\n",
      "Step 40: Cross-Entropy Loss: 0.5383094433839631\n",
      "Step 50: Cross-Entropy Loss: 0.5081041759297695\n",
      "Step 60: Cross-Entropy Loss: 0.48060594688101416\n",
      "Step 70: Cross-Entropy Loss: 0.45552567131948535\n",
      "Step 80: Cross-Entropy Loss: 0.4326052926730723\n",
      "Step 90: Cross-Entropy Loss: 0.411615391401665\n",
      "Step 100: Cross-Entropy Loss: 0.39235257934130435\n"
     ]
    }
   ],
   "source": [
    "# initialize and train the model\n",
    "my_model = MyLogisticRegression()\n",
    "losses = my_model.fit(X_train_std, y_train)\n",
    "for i, loss in enumerate(losses):\n",
    "    if i % 10 == 0:\n",
    "        print(\"Step {}: Cross-Entropy Loss: {}\".format(i, loss))"
   ]
  },
  {
   "cell_type": "markdown",
   "metadata": {},
   "source": [
    "Test your model on the test dataset"
   ]
  },
  {
   "cell_type": "code",
   "execution_count": 5,
   "metadata": {
    "ExecuteTime": {
     "end_time": "2023-11-17T03:14:42.241943700Z",
     "start_time": "2023-11-17T03:14:41.898399500Z"
    }
   },
   "outputs": [
    {
     "name": "stdout",
     "output_type": "stream",
     "text": [
      "The accuracy of your model is 1.0\n"
     ]
    }
   ],
   "source": [
    "from sklearn.metrics import accuracy_score\n",
    "\n",
    "y_pred = my_model.predict(X_test_std)\n",
    "acc = accuracy_score(y_test, y_pred)\n",
    "print(\"The accuracy of your model is {}\".format(acc))"
   ]
  },
  {
   "cell_type": "markdown",
   "metadata": {},
   "source": [
    "Plot the decision boundary on the whole dataset"
   ]
  },
  {
   "cell_type": "code",
   "execution_count": null,
   "metadata": {
    "ExecuteTime": {
     "end_time": "2023-11-17T03:14:42.267684500Z",
     "start_time": "2023-11-17T03:14:41.918400100Z"
    }
   },
   "outputs": [],
   "source": [
    "import matplotlib.pyplot as plt\n",
    "from matplotlib.colors import ListedColormap\n",
    "\n",
    "\n",
    "def plot_decision_regions(X, y, classifier,\n",
    "                          resolution=0.02):\n",
    "    # setup marker generator and color map    \n",
    "    markers = ('s', 'x', 'o', '^', 'v')\n",
    "    colors = ('red', 'blue', 'lightgreen', 'gray', 'cyan')\n",
    "    cmap = ListedColormap(colors[:len(np.unique(y))])\n",
    "    # plot the decision surface    \n",
    "    x1_min, x1_max = X[:, 0].min() - 1, X[:, 0].max() + 1\n",
    "    x2_min, x2_max = X[:, 1].min() - 1, X[:, 1].max() + 1\n",
    "    xx1, xx2 = np.meshgrid(np.arange(x1_min, x1_max, resolution),\n",
    "                           np.arange(x2_min, x2_max, resolution))\n",
    "    Z = classifier.predict(np.array([xx1.ravel(), xx2.ravel()]).T)\n",
    "    Z = Z.reshape(xx1.shape)\n",
    "    plt.contourf(xx1, xx2, Z, alpha=0.3, cmap=cmap)\n",
    "    plt.xlim(xx1.min(), xx1.max())\n",
    "    plt.ylim(xx2.min(), xx2.max())\n",
    "    for idx, class_ in enumerate(np.unique(y)):\n",
    "        plt.scatter(x=X[y == class_, 0], y=X[y == class_, 1],\n",
    "                    alpha=0.8, c=colors[idx],\n",
    "                    marker=markers[idx], label=\"class {}\".format(class_),\n",
    "                    edgecolor='black')\n",
    "\n",
    "        plt.legend()\n",
    "\n",
    "\n",
    "# remind that we still need to transform the whole dataset first\n",
    "X_std = sc.transform(X)\n",
    "plot_decision_regions(X_std, y, classifier=my_model)"
   ]
  },
  {
   "cell_type": "markdown",
   "metadata": {},
   "source": [
    "### Part 4: Using regression logistic model in sklearn module\n",
    "`sklearn` (short for scikit-learn) is a module basing on `numpy` and `scipy`.\n",
    "This project is initialized by `David Cournapeau` in 2007.\n",
    "After years development by the community, it is already one of the most powerful package in Python.\n",
    "\n",
    "Basically, this package contains all the well-used tools in a complete data mining or machine learning process.\n",
    "\n",
    "Link to the project: [Github/scikit-learn](https://github.com/scikit-learn/scikit-learn)\n",
    "\n",
    "\n",
    "As the picture shows, this package contains all the well-used tools in a complete data mining or machine learning process.\n",
    "\n",
    "![](ml_map.png)"
   ]
  },
  {
   "cell_type": "code",
   "execution_count": null,
   "metadata": {
    "ExecuteTime": {
     "end_time": "2023-11-17T03:14:43.853101500Z",
     "start_time": "2023-11-17T03:14:42.259680Z"
    }
   },
   "outputs": [],
   "source": [
    "from sklearn.linear_model import LogisticRegression\n",
    "\n",
    "lr = LogisticRegression()\n",
    "lr.fit(X_train_std, y_train)\n",
    "\n",
    "X_std = sc.transform(X)\n",
    "plot_decision_regions(X_std, y, classifier=lr)"
   ]
  },
  {
   "cell_type": "code",
   "execution_count": 7,
   "metadata": {
    "ExecuteTime": {
     "end_time": "2023-11-17T03:14:43.869092900Z",
     "start_time": "2023-11-17T03:14:43.857098600Z"
    }
   },
   "outputs": [],
   "source": []
  }
 ],
 "metadata": {
  "kernelspec": {
   "display_name": "Python 3",
   "language": "python",
   "name": "python3"
  },
  "language_info": {
   "codemirror_mode": {
    "name": "ipython",
    "version": 3
   },
   "file_extension": ".py",
   "mimetype": "text/x-python",
   "name": "python",
   "nbconvert_exporter": "python",
   "pygments_lexer": "ipython3",
   "version": "3.8.8"
  },
  "vscode": {
   "interpreter": {
    "hash": "6eea70d608ba4e65e3b5d32ac8522b4d78d39b471a2766e116e1911c1dde4fb7"
   }
  }
 },
 "nbformat": 4,
 "nbformat_minor": 4
}
