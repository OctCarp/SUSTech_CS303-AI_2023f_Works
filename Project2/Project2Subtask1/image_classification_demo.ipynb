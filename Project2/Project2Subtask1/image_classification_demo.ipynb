{
 "cells": [
  {
   "cell_type": "code",
   "execution_count": 55,
   "metadata": {
    "ExecuteTime": {
     "end_time": "2023-12-09T18:12:19.244022500Z",
     "start_time": "2023-12-09T18:12:19.208024600Z"
    }
   },
   "outputs": [],
   "source": [
    "import numpy as np\n",
    "import util\n",
    "from SoftmaxRegression import SoftmaxRegression"
   ]
  },
  {
   "cell_type": "markdown",
   "metadata": {},
   "source": [
    "## 1. Data Loading "
   ]
  },
  {
   "cell_type": "code",
   "execution_count": 56,
   "metadata": {
    "ExecuteTime": {
     "end_time": "2023-12-09T18:12:19.317024300Z",
     "start_time": "2023-12-09T18:12:19.248023900Z"
    }
   },
   "outputs": [],
   "source": [
    "classification_train_data = util.load_data(\"./data/classification_train_data.pkl\")\n",
    "classification_train_label = util.load_data(\"./data/classification_train_label.pkl\")\n",
    "classification_test_data = util.load_data(\"./data/classification_test_data.pkl\")"
   ]
  },
  {
   "cell_type": "markdown",
   "metadata": {},
   "source": [
    "## 2. Data Exploration"
   ]
  },
  {
   "cell_type": "code",
   "execution_count": 57,
   "metadata": {
    "ExecuteTime": {
     "end_time": "2023-12-09T18:12:19.358023400Z",
     "start_time": "2023-12-09T18:12:19.312023700Z"
    }
   },
   "outputs": [
    {
     "name": "stdout",
     "output_type": "stream",
     "text": [
      "Classification Train Data Shape: (49976, 257)\n",
      "Classification Train Label Shape: (49976, 2)\n",
      "Classification Test Data Shape: (9997, 257)\n"
     ]
    }
   ],
   "source": [
    "print(\"Classification Train Data Shape:\", classification_train_data.shape)\n",
    "print(\"Classification Train Label Shape:\", classification_train_label.shape)\n",
    "print(\"Classification Test Data Shape:\", classification_test_data.shape)"
   ]
  },
  {
   "cell_type": "markdown",
   "metadata": {},
   "source": [
    "## 3. Data Preprocessing"
   ]
  },
  {
   "cell_type": "code",
   "execution_count": 58,
   "metadata": {
    "ExecuteTime": {
     "end_time": "2023-12-09T18:12:19.358023400Z",
     "start_time": "2023-12-09T18:12:19.327024200Z"
    }
   },
   "outputs": [],
   "source": [
    "# remove index column\n",
    "train_data_index = classification_train_data[:, 0]\n",
    "train_label_index = classification_train_label[:, 0]\n",
    "test_data_index = classification_test_data[:, 0]\n",
    "classification_train_data = classification_train_data[:, 1:]\n",
    "classification_train_label = classification_train_label[:, 1:].reshape(-1)\n",
    "classification_test_data = classification_test_data[:, 1:]"
   ]
  },
  {
   "cell_type": "code",
   "execution_count": 59,
   "metadata": {
    "ExecuteTime": {
     "end_time": "2023-12-09T18:12:19.392024800Z",
     "start_time": "2023-12-09T18:12:19.342024800Z"
    }
   },
   "outputs": [
    {
     "data": {
      "text/plain": [
       "((49976, 256), (49976,), (9997, 256))"
      ]
     },
     "execution_count": 59,
     "metadata": {},
     "output_type": "execute_result"
    }
   ],
   "source": [
    "classification_train_data.shape, classification_train_label.shape, classification_test_data.shape"
   ]
  },
  {
   "cell_type": "code",
   "execution_count": 60,
   "metadata": {
    "ExecuteTime": {
     "end_time": "2023-12-09T18:12:19.395027Z",
     "start_time": "2023-12-09T18:12:19.357023900Z"
    }
   },
   "outputs": [
    {
     "data": {
      "text/plain": [
       "((49976,), (49976,), (9997,))"
      ]
     },
     "execution_count": 60,
     "metadata": {},
     "output_type": "execute_result"
    }
   ],
   "source": [
    "train_data_index.shape, train_label_index.shape, test_data_index.shape"
   ]
  },
  {
   "cell_type": "code",
   "execution_count": 61,
   "metadata": {
    "ExecuteTime": {
     "end_time": "2023-12-09T18:12:19.540637Z",
     "start_time": "2023-12-09T18:12:19.373025700Z"
    }
   },
   "outputs": [],
   "source": [
    "# normalization\n",
    "\n",
    "# calculate the mean and standard deviation of each column\n",
    "mean = np.mean(classification_train_data, axis=0)\n",
    "std_dev = np.std(classification_train_data, axis=0)\n",
    "\n",
    "# Z-Score normalizes each column\n",
    "classification_train_data = (classification_train_data - mean) / std_dev\n",
    "classification_test_data = (classification_test_data - mean) / std_dev"
   ]
  },
  {
   "cell_type": "code",
   "execution_count": 62,
   "metadata": {
    "ExecuteTime": {
     "end_time": "2023-12-09T18:12:19.571638100Z",
     "start_time": "2023-12-09T18:12:19.541639600Z"
    }
   },
   "outputs": [
    {
     "name": "stdout",
     "output_type": "stream",
     "text": [
      "train label shape: (49976, 10)\n"
     ]
    }
   ],
   "source": [
    "# label one-hot encoding\n",
    "num_classes = 10\n",
    "classification_train_label = np.eye(num_classes)[classification_train_label]\n",
    "print(\"train label shape:\", classification_train_label.shape)"
   ]
  },
  {
   "cell_type": "markdown",
   "metadata": {},
   "source": [
    "## 4. Dataset Splitting"
   ]
  },
  {
   "cell_type": "code",
   "execution_count": 63,
   "metadata": {
    "ExecuteTime": {
     "end_time": "2023-12-09T18:12:19.619706Z",
     "start_time": "2023-12-09T18:12:19.558637200Z"
    }
   },
   "outputs": [],
   "source": [
    "# divide the data set into training set and validation set\n",
    "train_ratio = 0.8\n",
    "seed = 123\n",
    "(train_data, train_labels), (validation_data, validation_labels) = util.split_train_validation(\n",
    "    classification_train_data, classification_train_label,\n",
    "    train_ratio=train_ratio, random_seed=seed\n",
    ")"
   ]
  },
  {
   "cell_type": "code",
   "execution_count": 64,
   "metadata": {
    "ExecuteTime": {
     "end_time": "2023-12-09T18:12:19.658702700Z",
     "start_time": "2023-12-09T18:12:19.621704600Z"
    }
   },
   "outputs": [
    {
     "data": {
      "text/plain": [
       "((39980, 256), (39980, 10), (9996, 256), (9996, 10))"
      ]
     },
     "execution_count": 64,
     "metadata": {},
     "output_type": "execute_result"
    }
   ],
   "source": [
    "train_data.shape, train_labels.shape, validation_data.shape, validation_labels.shape"
   ]
  },
  {
   "cell_type": "markdown",
   "metadata": {},
   "source": [
    "# 5. Model"
   ]
  },
  {
   "cell_type": "code",
   "execution_count": 65,
   "metadata": {
    "ExecuteTime": {
     "end_time": "2023-12-09T18:12:19.693707Z",
     "start_time": "2023-12-09T18:12:19.637702900Z"
    }
   },
   "outputs": [],
   "source": [
    "linear_model = SoftmaxRegression(\n",
    "    num_classes=num_classes,\n",
    "    learning_rate=0.01,\n",
    "    num_iterations=13000,\n",
    "    random_seed=seed)"
   ]
  },
  {
   "cell_type": "markdown",
   "metadata": {},
   "source": [
    "## 6. Train "
   ]
  },
  {
   "cell_type": "code",
   "execution_count": 66,
   "metadata": {
    "ExecuteTime": {
     "end_time": "2023-12-09T18:23:59.285480600Z",
     "start_time": "2023-12-09T18:12:19.653705700Z"
    }
   },
   "outputs": [
    {
     "name": "stderr",
     "output_type": "stream",
     "text": [
      "100%|██████████| 13000/13000 [11:39<00:00, 18.58it/s]\n"
     ]
    }
   ],
   "source": [
    "train_losses, val_losses, train_accuracies, val_accuracies = linear_model.fit(\n",
    "    X_train=train_data, y_train=train_labels,\n",
    "    X_val=validation_data, y_val=validation_labels\n",
    ")"
   ]
  },
  {
   "cell_type": "code",
   "execution_count": null,
   "metadata": {
    "ExecuteTime": {
     "end_time": "2023-12-09T18:23:59.578063200Z",
     "start_time": "2023-12-09T18:23:59.284480500Z"
    }
   },
   "outputs": [],
   "source": [
    "util.plot_loss_curves(train_losses=train_losses, val_losses=val_losses)"
   ]
  },
  {
   "cell_type": "code",
   "execution_count": null,
   "metadata": {
    "ExecuteTime": {
     "end_time": "2023-12-09T18:23:59.994061200Z",
     "start_time": "2023-12-09T18:23:59.580064400Z"
    }
   },
   "outputs": [],
   "source": [
    "util.plot_acc_curves(train_acc=train_accuracies, val_acc=val_accuracies)"
   ]
  },
  {
   "cell_type": "markdown",
   "metadata": {},
   "source": [
    "## 7. Predict"
   ]
  },
  {
   "cell_type": "code",
   "execution_count": 69,
   "metadata": {
    "ExecuteTime": {
     "end_time": "2023-12-09T18:23:59.994061200Z",
     "start_time": "2023-12-09T18:23:59.845063100Z"
    }
   },
   "outputs": [],
   "source": [
    "test_label_predict = linear_model.predict(classification_test_data)"
   ]
  },
  {
   "cell_type": "code",
   "execution_count": 70,
   "metadata": {
    "ExecuteTime": {
     "end_time": "2023-12-09T18:23:59.995061100Z",
     "start_time": "2023-12-09T18:23:59.846064200Z"
    }
   },
   "outputs": [],
   "source": [
    "# merge index and corresponding classification results \n",
    "submit_data = np.hstack((\n",
    "    test_data_index.reshape(-1, 1),\n",
    "    test_label_predict.reshape(-1, 1)\n",
    "))"
   ]
  },
  {
   "cell_type": "code",
   "execution_count": 71,
   "metadata": {
    "ExecuteTime": {
     "end_time": "2023-12-09T18:23:59.995061100Z",
     "start_time": "2023-12-09T18:23:59.846064200Z"
    }
   },
   "outputs": [
    {
     "data": {
      "text/plain": [
       "(9997, 2)"
      ]
     },
     "execution_count": 71,
     "metadata": {},
     "output_type": "execute_result"
    }
   ],
   "source": [
    "submit_data.shape"
   ]
  },
  {
   "cell_type": "code",
   "execution_count": 72,
   "metadata": {
    "ExecuteTime": {
     "end_time": "2023-12-09T18:23:59.995061100Z",
     "start_time": "2023-12-09T18:23:59.848065500Z"
    }
   },
   "outputs": [
    {
     "name": "stdout",
     "output_type": "stream",
     "text": [
      "Saved successfully\n"
     ]
    }
   ],
   "source": [
    "util.save_data('./classification_results.pkl', submit_data)"
   ]
  }
 ],
 "metadata": {
  "kernelspec": {
   "display_name": "Python 3 (ipykernel)",
   "language": "python",
   "name": "python3"
  },
  "language_info": {
   "codemirror_mode": {
    "name": "ipython",
    "version": 3
   },
   "file_extension": ".py",
   "mimetype": "text/x-python",
   "name": "python",
   "nbconvert_exporter": "python",
   "pygments_lexer": "ipython3",
   "version": "3.10.8"
  }
 },
 "nbformat": 4,
 "nbformat_minor": 4
}
