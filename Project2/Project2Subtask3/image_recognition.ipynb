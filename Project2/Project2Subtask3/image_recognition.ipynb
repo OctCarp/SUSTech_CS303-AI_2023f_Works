{
 "cells": [
  {
   "cell_type": "code",
   "execution_count": 1,
   "metadata": {
    "ExecuteTime": {
     "end_time": "2023-12-06T15:29:05.437821400Z",
     "start_time": "2023-12-06T15:29:04.957121800Z"
    }
   },
   "outputs": [],
   "source": [
    "import numpy as np\n",
    "import util\n",
    "from SoftmaxRegression import SoftmaxRegression"
   ]
  },
  {
   "cell_type": "markdown",
   "metadata": {},
   "source": [
    "## 1. Data Loading"
   ]
  },
  {
   "cell_type": "code",
   "execution_count": 2,
   "metadata": {
    "ExecuteTime": {
     "end_time": "2023-12-06T15:29:05.453823700Z",
     "start_time": "2023-12-06T15:29:05.439823400Z"
    }
   },
   "outputs": [],
   "source": [
    "validation_data = util.load_data(\"./data/classification_validation_data.pkl\")\n",
    "validation_label = util.load_data(\"./data/classification_validation_label.pkl\")"
   ]
  },
  {
   "cell_type": "markdown",
   "metadata": {},
   "source": [
    "## 2. Data Preprocessing"
   ]
  },
  {
   "cell_type": "code",
   "execution_count": 3,
   "metadata": {
    "ExecuteTime": {
     "end_time": "2023-12-06T15:29:05.471835700Z",
     "start_time": "2023-12-06T15:29:05.454822900Z"
    }
   },
   "outputs": [],
   "source": [
    "# remove index column\n",
    "validation_data = validation_data[:, 1:]\n",
    "validation_label = validation_label[:, 1:].reshape(-1)"
   ]
  },
  {
   "cell_type": "code",
   "execution_count": 4,
   "metadata": {
    "ExecuteTime": {
     "end_time": "2023-12-06T15:29:05.483837600Z",
     "start_time": "2023-12-06T15:29:05.468836200Z"
    }
   },
   "outputs": [
    {
     "data": {
      "text/plain": "((9996, 256), (9996,))"
     },
     "execution_count": 4,
     "metadata": {},
     "output_type": "execute_result"
    }
   ],
   "source": [
    "validation_data.shape, validation_label.shape"
   ]
  },
  {
   "cell_type": "code",
   "execution_count": 5,
   "metadata": {
    "ExecuteTime": {
     "end_time": "2023-12-06T15:29:05.641254800Z",
     "start_time": "2023-12-06T15:29:05.485837Z"
    }
   },
   "outputs": [],
   "source": [
    "# label one-hot encoding\n",
    "num_classes = 10\n",
    "validation_label = np.eye(num_classes)[validation_label]\n",
    "# print(\"train label shape:\", validation_label.shape)"
   ]
  },
  {
   "cell_type": "markdown",
   "metadata": {},
   "source": [
    "## 3. Model"
   ]
  },
  {
   "cell_type": "code",
   "execution_count": 6,
   "metadata": {
    "ExecuteTime": {
     "end_time": "2023-12-06T15:29:05.652254800Z",
     "start_time": "2023-12-06T15:29:05.501256400Z"
    }
   },
   "outputs": [],
   "source": [
    "linear_model = SoftmaxRegression(\n",
    "    num_classes=num_classes,\n",
    "    learning_rate=0.1,\n",
    "    num_iterations=10000,\n",
    "    random_seed=123)\n",
    "# no training, directly fix the weights \n",
    "linear_model.weights = util.load_data('./data/image_recognition_model_weights.pkl')"
   ]
  },
  {
   "cell_type": "markdown",
   "metadata": {},
   "source": [
    "## 4. Predict"
   ]
  },
  {
   "cell_type": "code",
   "execution_count": 7,
   "metadata": {
    "ExecuteTime": {
     "end_time": "2023-12-06T15:29:05.653255500Z",
     "start_time": "2023-12-06T15:29:05.516255600Z"
    }
   },
   "outputs": [
    {
     "data": {
      "text/plain": "array([[1., 0., 0., 1., 1., 0., 0., 0., 0., 0., 0., 1., 0., 0., 0., 0.,\n        1., 1., 0., 0., 0., 0., 0., 0., 0., 0., 0., 0., 0., 0., 0., 0.,\n        0., 0., 0., 0., 0., 0., 0., 1., 0., 0., 0., 0., 1., 0., 0., 0.,\n        0., 0., 0., 0., 0., 0., 0., 0., 0., 0., 0., 0., 0., 0., 0., 1.,\n        0., 0., 0., 0., 0., 0., 0., 0., 0., 0., 0., 0., 0., 0., 0., 0.,\n        0., 0., 0., 0., 0., 0., 0., 0., 0., 0., 0., 0., 1., 1., 0., 1.,\n        0., 0., 0., 0., 0., 0., 0., 0., 0., 0., 0., 0., 0., 0., 0., 1.,\n        0., 0., 0., 0., 0., 0., 0., 0., 0., 0., 0., 0., 0., 0., 0., 0.,\n        0., 0., 0., 0., 0., 0., 0., 0., 0., 0., 0., 0., 0., 0., 0., 0.,\n        1., 0., 0., 0., 1., 0., 0., 1., 0., 0., 0., 0., 0., 0., 0., 0.,\n        0., 0., 1., 0., 0., 0., 1., 0., 0., 0., 0., 0., 0., 0., 0., 0.,\n        0., 0., 0., 0., 0., 0., 0., 0., 0., 1., 0., 0., 0., 0., 0., 0.,\n        0., 0., 0., 0., 0., 0., 0., 0., 0., 0., 0., 0., 0., 0., 1., 0.,\n        0., 0., 1., 0., 0., 0., 0., 0., 0., 0., 1., 0., 0., 1., 0., 0.,\n        0., 0., 0., 0., 0., 1., 1., 1., 0., 0., 0., 0., 0., 0., 0., 0.,\n        0., 0., 1., 0., 0., 0., 0., 0., 0., 0., 1., 1., 0., 0., 1., 0.]])"
     },
     "execution_count": 7,
     "metadata": {},
     "output_type": "execute_result"
    }
   ],
   "source": [
    "# mask\n",
    "mask_code = util.load_data(\"./mask_code.pkl\")\n",
    "mask_code"
   ]
  },
  {
   "cell_type": "code",
   "execution_count": 8,
   "metadata": {
    "ExecuteTime": {
     "end_time": "2023-12-06T15:29:05.654256700Z",
     "start_time": "2023-12-06T15:29:05.532256700Z"
    }
   },
   "outputs": [],
   "source": [
    "# mask feature\n",
    "mask_validation_data = validation_data * mask_code"
   ]
  },
  {
   "cell_type": "code",
   "execution_count": 9,
   "metadata": {
    "ExecuteTime": {
     "end_time": "2023-12-06T15:29:05.654256700Z",
     "start_time": "2023-12-06T15:29:05.548255500Z"
    }
   },
   "outputs": [],
   "source": [
    "# Predict\n",
    "val_pred = linear_model.predict(mask_validation_data)\n",
    "# Calculate validation accuracy\n",
    "val_accuracy = np.mean(val_pred == np.argmax(validation_label, axis=1))"
   ]
  },
  {
   "cell_type": "code",
   "execution_count": 10,
   "metadata": {
    "ExecuteTime": {
     "end_time": "2023-12-06T15:29:05.655255700Z",
     "start_time": "2023-12-06T15:29:05.629260200Z"
    }
   },
   "outputs": [
    {
     "name": "stdout",
     "output_type": "stream",
     "text": [
      "0.3092236894757903\n"
     ]
    }
   ],
   "source": [
    "print(val_accuracy)"
   ]
  }
 ],
 "metadata": {
  "kernelspec": {
   "display_name": "Python 3 (ipykernel)",
   "language": "python",
   "name": "python3"
  },
  "language_info": {
   "codemirror_mode": {
    "name": "ipython",
    "version": 3
   },
   "file_extension": ".py",
   "mimetype": "text/x-python",
   "name": "python",
   "nbconvert_exporter": "python",
   "pygments_lexer": "ipython3",
   "version": "3.10.8"
  }
 },
 "nbformat": 4,
 "nbformat_minor": 4
}
