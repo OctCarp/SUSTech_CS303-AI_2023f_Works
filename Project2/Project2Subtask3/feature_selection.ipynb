{
 "cells": [
  {
   "cell_type": "code",
   "execution_count": 1,
   "metadata": {
    "ExecuteTime": {
     "end_time": "2023-12-06T15:28:33.435934400Z",
     "start_time": "2023-12-06T15:28:32.958797800Z"
    }
   },
   "outputs": [],
   "source": [
    "import numpy as np\n",
    "import util"
   ]
  },
  {
   "cell_type": "markdown",
   "metadata": {},
   "source": [
    "## 1. Data Loading"
   ]
  },
  {
   "cell_type": "code",
   "execution_count": 2,
   "metadata": {
    "ExecuteTime": {
     "end_time": "2023-12-06T15:28:33.449948Z",
     "start_time": "2023-12-06T15:28:33.435934400Z"
    }
   },
   "outputs": [],
   "source": [
    "validation_data = util.load_data(\"./data/classification_validation_data.pkl\")\n",
    "validation_label = util.load_data(\"./data/classification_validation_label.pkl\")"
   ]
  },
  {
   "cell_type": "code",
   "execution_count": 3,
   "metadata": {
    "ExecuteTime": {
     "end_time": "2023-12-06T15:28:33.474967100Z",
     "start_time": "2023-12-06T15:28:33.451954500Z"
    }
   },
   "outputs": [],
   "source": [
    "# remove index column\n",
    "train_data_index = validation_data[:, 0]\n",
    "train_label_index = validation_label[:, 0]\n",
    "validation_data = validation_data[:, 1:]\n",
    "validation_label = validation_label[:, 1:].reshape(-1)"
   ]
  },
  {
   "cell_type": "code",
   "execution_count": 4,
   "metadata": {
    "ExecuteTime": {
     "end_time": "2023-12-06T15:28:33.481967Z",
     "start_time": "2023-12-06T15:28:33.466971200Z"
    }
   },
   "outputs": [
    {
     "data": {
      "text/plain": "((9996, 256), (9996,))"
     },
     "execution_count": 4,
     "metadata": {},
     "output_type": "execute_result"
    }
   ],
   "source": [
    "validation_data.shape, validation_label.shape"
   ]
  },
  {
   "cell_type": "code",
   "execution_count": 5,
   "metadata": {
    "ExecuteTime": {
     "end_time": "2023-12-06T15:28:33.766966900Z",
     "start_time": "2023-12-06T15:28:33.483971800Z"
    }
   },
   "outputs": [
    {
     "data": {
      "text/plain": "((9996,), (9996,))"
     },
     "execution_count": 5,
     "metadata": {},
     "output_type": "execute_result"
    }
   ],
   "source": [
    "train_data_index.shape, train_label_index.shape"
   ]
  },
  {
   "cell_type": "markdown",
   "metadata": {},
   "source": [
    "## 2. Feature Selection"
   ]
  },
  {
   "cell_type": "code",
   "execution_count": 6,
   "metadata": {
    "ExecuteTime": {
     "end_time": "2023-12-06T15:28:33.788995Z",
     "start_time": "2023-12-06T15:28:33.499973100Z"
    }
   },
   "outputs": [
    {
     "data": {
      "text/plain": "array([166, 144, 218,  92, 231, 151, 230, 229,  17,   3,  11, 206, 221,\n        93, 162, 111,  95,   0, 210,  44,   4, 242,  63, 250, 148, 254,\n       251, 185,  16,  39])"
     },
     "execution_count": 6,
     "metadata": {},
     "output_type": "execute_result"
    }
   ],
   "source": [
    "num_features_to_select = 30\n",
    "\n",
    "# feature index\n",
    "indexs = np.arange(validation_data.shape[1])\n",
    "\n",
    "# Randomly select 30 features index\n",
    "np.random.seed(1428)\n",
    "random_indexs = np.random.choice(indexs, size=30, replace=False)\n",
    "random_indexs"
   ]
  },
  {
   "cell_type": "code",
   "execution_count": 7,
   "metadata": {
    "ExecuteTime": {
     "end_time": "2023-12-06T15:28:33.790029200Z",
     "start_time": "2023-12-06T15:28:33.514971700Z"
    }
   },
   "outputs": [],
   "source": [
    "mask_code = np.zeros((1, validation_data.shape[1]))"
   ]
  },
  {
   "cell_type": "code",
   "execution_count": 8,
   "metadata": {
    "ExecuteTime": {
     "end_time": "2023-12-06T15:28:33.790029200Z",
     "start_time": "2023-12-06T15:28:33.531970900Z"
    }
   },
   "outputs": [],
   "source": [
    "mask_code[0, random_indexs] = 1"
   ]
  },
  {
   "cell_type": "code",
   "execution_count": 9,
   "metadata": {
    "ExecuteTime": {
     "end_time": "2023-12-06T15:28:33.791037600Z",
     "start_time": "2023-12-06T15:28:33.546968500Z"
    }
   },
   "outputs": [
    {
     "name": "stdout",
     "output_type": "stream",
     "text": [
      "Saved successfully\n"
     ]
    }
   ],
   "source": [
    "util.save_data(\"./mask_code.pkl\", mask_code)"
   ]
  }
 ],
 "metadata": {
  "kernelspec": {
   "display_name": "Python 3 (ipykernel)",
   "language": "python",
   "name": "python3"
  },
  "language_info": {
   "codemirror_mode": {
    "name": "ipython",
    "version": 3
   },
   "file_extension": ".py",
   "mimetype": "text/x-python",
   "name": "python",
   "nbconvert_exporter": "python",
   "pygments_lexer": "ipython3",
   "version": "3.10.8"
  }
 },
 "nbformat": 4,
 "nbformat_minor": 4
}
