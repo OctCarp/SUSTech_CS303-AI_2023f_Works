{
 "cells": [
  {
   "cell_type": "code",
   "execution_count": 1,
   "metadata": {
    "ExecuteTime": {
     "end_time": "2023-12-10T12:35:26.656269200Z",
     "start_time": "2023-12-10T12:35:26.039060500Z"
    }
   },
   "outputs": [],
   "source": [
    "import numpy as np\n",
    "import util\n",
    "from NNS import NNS"
   ]
  },
  {
   "cell_type": "markdown",
   "metadata": {},
   "source": [
    "## 1. Data Loading"
   ]
  },
  {
   "cell_type": "code",
   "execution_count": 2,
   "metadata": {
    "ExecuteTime": {
     "end_time": "2023-12-10T12:35:26.689268700Z",
     "start_time": "2023-12-10T12:35:26.650269900Z"
    }
   },
   "outputs": [],
   "source": [
    "retrieval_repository_data = util.load_data('./data/image_retrieval_repository_data.pkl')\n",
    "retrieval_test_data = util.load_data('./data/image_retrieval_test_data.pkl')"
   ]
  },
  {
   "cell_type": "markdown",
   "metadata": {},
   "source": [
    "## 2. Data Exploration"
   ]
  },
  {
   "cell_type": "code",
   "execution_count": 3,
   "metadata": {
    "ExecuteTime": {
     "end_time": "2023-12-10T12:35:26.709270300Z",
     "start_time": "2023-12-10T12:35:26.680270700Z"
    }
   },
   "outputs": [
    {
     "name": "stdout",
     "output_type": "stream",
     "text": [
      "Image Retrieval Repository Data Shape: (5000, 257)\n",
      "Image Retrieval Test Data Shape: (1000, 257)\n"
     ]
    }
   ],
   "source": [
    "print(\"Image Retrieval Repository Data Shape:\", retrieval_repository_data.shape)\n",
    "print(\"Image Retrieval Test Data Shape:\", retrieval_test_data.shape)"
   ]
  },
  {
   "cell_type": "markdown",
   "metadata": {},
   "source": [
    "## 3. Data Preprocessing "
   ]
  },
  {
   "cell_type": "code",
   "execution_count": 4,
   "metadata": {
    "ExecuteTime": {
     "end_time": "2023-12-10T12:35:26.753271200Z",
     "start_time": "2023-12-10T12:35:26.697270100Z"
    }
   },
   "outputs": [],
   "source": [
    "# remove index column\n",
    "repository_data_index = retrieval_repository_data[:, 0]\n",
    "test_data_index = retrieval_test_data[:, 0]\n",
    "retrieval_repository_data = retrieval_repository_data[:, 1:]\n",
    "retrieval_test_data = retrieval_test_data[:, 1:]"
   ]
  },
  {
   "cell_type": "code",
   "execution_count": 5,
   "metadata": {
    "ExecuteTime": {
     "end_time": "2023-12-10T12:35:26.755270200Z",
     "start_time": "2023-12-10T12:35:26.713268700Z"
    }
   },
   "outputs": [
    {
     "data": {
      "text/plain": "((5000,), (1000,))"
     },
     "execution_count": 5,
     "metadata": {},
     "output_type": "execute_result"
    }
   ],
   "source": [
    "repository_data_index.shape, test_data_index.shape"
   ]
  },
  {
   "cell_type": "code",
   "execution_count": 6,
   "metadata": {
    "ExecuteTime": {
     "end_time": "2023-12-10T12:35:26.821268100Z",
     "start_time": "2023-12-10T12:35:26.727270600Z"
    }
   },
   "outputs": [
    {
     "data": {
      "text/plain": "((5000, 256), (1000, 256))"
     },
     "execution_count": 6,
     "metadata": {},
     "output_type": "execute_result"
    }
   ],
   "source": [
    "retrieval_repository_data.shape,  retrieval_test_data.shape"
   ]
  },
  {
   "cell_type": "markdown",
   "metadata": {},
   "source": [
    "## 4. Model"
   ]
  },
  {
   "cell_type": "code",
   "execution_count": 7,
   "metadata": {
    "ExecuteTime": {
     "end_time": "2023-12-10T12:35:26.823268300Z",
     "start_time": "2023-12-10T12:35:26.744271Z"
    }
   },
   "outputs": [],
   "source": [
    "nns_model = NNS(k=5)"
   ]
  },
  {
   "cell_type": "markdown",
   "metadata": {},
   "source": [
    "## 5. Train"
   ]
  },
  {
   "cell_type": "code",
   "execution_count": 8,
   "metadata": {
    "ExecuteTime": {
     "end_time": "2023-12-10T12:35:26.824268500Z",
     "start_time": "2023-12-10T12:35:26.758273500Z"
    }
   },
   "outputs": [],
   "source": [
    "nns_model.fit(X_train=retrieval_repository_data)"
   ]
  },
  {
   "cell_type": "markdown",
   "metadata": {},
   "source": [
    "## 6. Predict"
   ]
  },
  {
   "cell_type": "code",
   "execution_count": 9,
   "metadata": {
    "ExecuteTime": {
     "end_time": "2023-12-10T12:35:49.020394600Z",
     "start_time": "2023-12-10T12:35:26.773271Z"
    }
   },
   "outputs": [
    {
     "name": "stderr",
     "output_type": "stream",
     "text": [
      "100%|██████████| 1000/1000 [00:22<00:00, 45.02it/s]\n"
     ]
    }
   ],
   "source": [
    "k_nearest = nns_model.predict(retrieval_test_data)"
   ]
  },
  {
   "cell_type": "code",
   "execution_count": 10,
   "metadata": {
    "ExecuteTime": {
     "end_time": "2023-12-10T12:35:49.036394100Z",
     "start_time": "2023-12-10T12:35:49.022396300Z"
    }
   },
   "outputs": [
    {
     "data": {
      "text/plain": "(1000, 5)"
     },
     "execution_count": 10,
     "metadata": {},
     "output_type": "execute_result"
    }
   ],
   "source": [
    "k_nearest.shape"
   ]
  },
  {
   "cell_type": "code",
   "execution_count": 11,
   "metadata": {
    "ExecuteTime": {
     "end_time": "2023-12-10T12:35:49.060394700Z",
     "start_time": "2023-12-10T12:35:49.038397100Z"
    }
   },
   "outputs": [
    {
     "data": {
      "text/plain": "(1000, 6)"
     },
     "execution_count": 11,
     "metadata": {},
     "output_type": "execute_result"
    }
   ],
   "source": [
    "# merge index and corresponding results \n",
    "submit_data = np.hstack((\n",
    "    test_data_index.reshape(-1, 1),\n",
    "    k_nearest\n",
    "    ))\n",
    "submit_data.shape"
   ]
  },
  {
   "cell_type": "code",
   "execution_count": 12,
   "metadata": {
    "ExecuteTime": {
     "end_time": "2023-12-10T12:35:49.068394100Z",
     "start_time": "2023-12-10T12:35:49.054393400Z"
    }
   },
   "outputs": [
    {
     "name": "stdout",
     "output_type": "stream",
     "text": [
      "Saved successfully\n"
     ]
    }
   ],
   "source": [
    "util.save_data('./retrieval_results.pkl', submit_data)"
   ]
  }
 ],
 "metadata": {
  "kernelspec": {
   "display_name": "Python 3 (ipykernel)",
   "language": "python",
   "name": "python3"
  },
  "language_info": {
   "codemirror_mode": {
    "name": "ipython",
    "version": 3
   },
   "file_extension": ".py",
   "mimetype": "text/x-python",
   "name": "python",
   "nbconvert_exporter": "python",
   "pygments_lexer": "ipython3",
   "version": "3.10.8"
  }
 },
 "nbformat": 4,
 "nbformat_minor": 4
}
